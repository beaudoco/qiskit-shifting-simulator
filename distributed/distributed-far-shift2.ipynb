{
 "cells": [
  {
   "cell_type": "code",
   "execution_count": 1,
   "id": "3091e7f8-07e1-4bce-ab61-efae80afaa86",
   "metadata": {},
   "outputs": [],
   "source": [
    "import openpyxl as xl\n",
    "from tqdm import tqdm\n",
    "import time\n",
    "# import matplotlib.pyplot as plt\n",
    "from qiskit import *\n",
    "from copy import deepcopy"
   ]
  },
  {
   "cell_type": "code",
   "execution_count": 2,
   "id": "8fa2c918-4d2f-4259-a059-5b970477e822",
   "metadata": {},
   "outputs": [],
   "source": [
    "## Loading account and backend\n",
    "\n",
    "# QX_TOKEN = \"929e8951d2081e9da2d290c48fc02a9cbd264affbcfc9669a63af613b630a8d545a504adf27d70a6650bf17dfea2fae9400895cb2f0f9f2e4c68466654505723\"\n",
    "\n",
    "# IBMQ.enable_account(QX_TOKEN)\n",
    "# provider = IBMQ.get_provider(hub='ibm-q-research', group='penn-3', project='main')\n",
    "\n",
    "# QX_TOKEN = \"67313723797a8e1e5905db1cd035fe6918ea028b47a6ab963058182756fbfc7f6b72e92b21c668900e83e60d206de10aec97751d91ef74de7fde33f31e4b4e58\"\n",
    "# provider = IBMQ.enable_account(QX_TOKEN)"
   ]
  },
  {
   "cell_type": "code",
   "execution_count": 3,
   "id": "bb138b6c-720c-4979-88f7-db1605c1d6cd",
   "metadata": {},
   "outputs": [],
   "source": [
    "### Chose the backend\n",
    "\n",
    "# backend = provider.get_backend('ibmq_bogota')\n",
    "# backend = FakeMelbourne()\n",
    "backend = Aer.get_backend(\"qasm_simulator\") "
   ]
  },
  {
   "cell_type": "code",
   "execution_count": 4,
   "id": "1dd6b54e-3806-4033-867a-b7eca9de7391",
   "metadata": {},
   "outputs": [],
   "source": [
    "## Initializing the Quantum Circuit\n",
    "\n",
    "qr = QuantumRegister(5, 'q')\n",
    "cr = ClassicalRegister(2, 'c')\n",
    "qc_close = QuantumCircuit(qr, cr)\n",
    "# qc_always_far = QuantumCircuit(qr, cr)\n",
    "# qc_far = QuantumCircuit(qr, cr)"
   ]
  },
  {
   "cell_type": "code",
   "execution_count": 5,
   "id": "908c49f4-5a14-421f-b6b9-3754f6d3a5f4",
   "metadata": {},
   "outputs": [
    {
     "name": "stdout",
     "output_type": "stream",
     "text": [
      "            ░       ░       ░       ░ \n",
      " q_0: ──■───░───■───░───■───░───■───░─\n",
      "      ┌─┴─┐ ░ ┌─┴─┐ ░ ┌─┴─┐ ░ ┌─┴─┐ ░ \n",
      " q_1: ┤ X ├─░─┤ X ├─░─┤ X ├─░─┤ X ├─░─\n",
      "      └───┘ ░ └───┘ ░ └───┘ ░ └───┘ ░ \n",
      " q_2: ──■───░───■───░───■───░───■───░─\n",
      "      ┌─┴─┐ ░ ┌─┴─┐ ░ ┌─┴─┐ ░ ┌─┴─┐ ░ \n",
      " q_3: ┤ X ├─░─┤ X ├─░─┤ X ├─░─┤ X ├─░─\n",
      "      └───┘ ░ └───┘ ░ └───┘ ░ └───┘ ░ \n",
      " q_4: ──────░───────░───────░───────░─\n",
      "            ░       ░       ░       ░ \n",
      " q_5: ──────░───────░───────░───────░─\n",
      "            ░       ░       ░       ░ \n",
      " q_6: ──────░───────░───────░───────░─\n",
      "            ░       ░       ░       ░ \n",
      " q_7: ──────░───────░───────░───────░─\n",
      "            ░       ░       ░       ░ \n",
      " q_8: ──────░───────░───────░───────░─\n",
      "            ░       ░       ░       ░ \n",
      " q_9: ──────░───────░───────░───────░─\n",
      "            ░       ░       ░       ░ \n",
      "q_10: ──────░───────░───────░───────░─\n",
      "            ░       ░       ░       ░ \n",
      "q_11: ──────░───────░───────░───────░─\n",
      "            ░       ░       ░       ░ \n",
      "q_12: ──────░───────░───────░───────░─\n",
      "            ░       ░       ░       ░ \n",
      "q_13: ──────░───────░───────░───────░─\n",
      "            ░       ░       ░       ░ \n",
      "q_14: ──────░───────░───────░───────░─\n",
      "            ░       ░       ░       ░ \n",
      " c: 2/════════════════════════════════\n",
      "                                      \n",
      "            ░       ░       ░       ░ \n",
      " q_0: ──■───░───■───░───■───░───■───░─\n",
      "      ┌─┴─┐ ░ ┌─┴─┐ ░ ┌─┴─┐ ░ ┌─┴─┐ ░ \n",
      " q_1: ┤ X ├─░─┤ X ├─░─┤ X ├─░─┤ X ├─░─\n",
      "      └───┘ ░ └───┘ ░ └───┘ ░ └───┘ ░ \n",
      " q_2: ──────░───────░───────░───────░─\n",
      "            ░       ░       ░       ░ \n",
      " q_3: ──■───░───■───░───■───░───■───░─\n",
      "      ┌─┴─┐ ░ ┌─┴─┐ ░ ┌─┴─┐ ░ ┌─┴─┐ ░ \n",
      " q_4: ┤ X ├─░─┤ X ├─░─┤ X ├─░─┤ X ├─░─\n",
      "      └───┘ ░ └───┘ ░ └───┘ ░ └───┘ ░ \n",
      " q_5: ──────░───────░───────░───────░─\n",
      "            ░       ░       ░       ░ \n",
      " q_6: ──────░───────░───────░───────░─\n",
      "            ░       ░       ░       ░ \n",
      " q_7: ──────░───────░───────░───────░─\n",
      "            ░       ░       ░       ░ \n",
      " q_8: ──────░───────░───────░───────░─\n",
      "            ░       ░       ░       ░ \n",
      " q_9: ──────░───────░───────░───────░─\n",
      "            ░       ░       ░       ░ \n",
      "q_10: ──────░───────░───────░───────░─\n",
      "            ░       ░       ░       ░ \n",
      "q_11: ──────░───────░───────░───────░─\n",
      "            ░       ░       ░       ░ \n",
      "q_12: ──────░───────░───────░───────░─\n",
      "            ░       ░       ░       ░ \n",
      "q_13: ──────░───────░───────░───────░─\n",
      "            ░       ░       ░       ░ \n",
      "q_14: ──────░───────░───────░───────░─\n",
      "            ░       ░       ░       ░ \n",
      " c: 2/════════════════════════════════\n",
      "                                      \n"
     ]
    }
   ],
   "source": [
    "num_gates = 50 # change this line\n",
    "q1, q2 = 3, 4\n",
    "for i in range(num_gates):\n",
    "    # prepare close \n",
    "    qc_close.cx(qr[0], qr[1])\n",
    "    qc_close.cx(qr[2], qr[3])\n",
    "    qc_close.barrier()\n",
    "    \n",
    "    # prepare far\n",
    "#     if i == num_gates//2:\n",
    "#         qc_far.swap(qr[3], qr[4])\n",
    "#         qc_far.swap(qr[2], qr[3])\n",
    "#         q1, q2 = 3, 4\n",
    "#         qc_far.barrier()\n",
    "\n",
    "#     qc_far.cx(qr[0], qr[1])\n",
    "#     qc_far.cx(qr[q1], qr[q2])\n",
    "\n",
    "#     qc_far.barrier()"
   ]
  },
  {
   "cell_type": "code",
   "execution_count": 6,
   "id": "54ea18ea-b9b3-40aa-94dd-9a3e5c2fb554",
   "metadata": {},
   "outputs": [
    {
     "data": {
      "text/plain": [
       "<qiskit.circuit.instructionset.InstructionSet at 0x7f12fe7636a0>"
      ]
     },
     "execution_count": 6,
     "metadata": {},
     "output_type": "execute_result"
    }
   ],
   "source": [
    "qc_close_p2 = deepcopy(qc_close)\n",
    "# measure for close\n",
    "qc_close.measure(qr[0], cr[0])\n",
    "qc_close.measure(qr[1], cr[1])\n",
    "\n",
    "qc_close_p2.measure(qr[2], cr[0])\n",
    "qc_close_p2.measure(qr[3], cr[1])\n",
    "# qc_close.measure(qr[2], cr[2])\n",
    "# qc_close.measure(qr[3], cr[3])\n",
    "\n",
    "# measure for far\n",
    "# qc_far.measure(qr[0], cr[0])\n",
    "# qc_far.measure(qr[1], cr[1])\n",
    "# qc_far.measure(qr[q1], cr[2])\n",
    "# qc_far.measure(qr[q2], cr[3])"
   ]
  },
  {
   "cell_type": "code",
   "execution_count": null,
   "id": "7c9e3bdd-5d3a-406d-915a-a7027eef5652",
   "metadata": {},
   "outputs": [],
   "source": [
    "## Executing the Quantum Circuit on a Hardware\n",
    "\n",
    "max_experiments = 74\n",
    "circ_list = []\n",
    "for i in range(max_experiments):\n",
    "    circ_list.append(qc_close)\n",
    "    circ_list.append(qc_close_p2)\n",
    "\n",
    "# print(circ_list[0])\n",
    "# exit()\n",
    "job = execute(circ_list, backend, shots=8192)\n",
    "result = job.result()\n",
    "\n",
    "t = time.time()\n",
    "\n",
    "## Save the results in an Excel File\n",
    "\n",
    "row2 = list(result.get_counts(1).keys())\n",
    "file_counts = open(\"distributed_shots_{}_{}_close.txt\".format(num_gates, backend), \"a\")\n",
    "\n",
    "if not os.path.exists(\"distributed_shots_close.xlsx\"):\n",
    "    wb = xl.Workbook()\n",
    "    ws = wb.active\n",
    "\n",
    "    row = list(result.get_counts(1).keys())\n",
    "    row.insert(0, \"Backend\")\n",
    "    row.insert(0, \"Time\")\n",
    "\n",
    "    ws.append(row)\n",
    "else:\n",
    "    wb = xl.load_workbook(filename = \"distributed_shots_close.xlsx\")\n",
    "    ws = wb.active"
   ]
  }
 ],
 "metadata": {
  "kernelspec": {
   "display_name": "Python 3",
   "language": "python",
   "name": "python3"
  },
  "language_info": {
   "codemirror_mode": {
    "name": "ipython",
    "version": 3
   },
   "file_extension": ".py",
   "mimetype": "text/x-python",
   "name": "python",
   "nbconvert_exporter": "python",
   "pygments_lexer": "ipython3",
   "version": "3.8.8"
  }
 },
 "nbformat": 4,
 "nbformat_minor": 5
}
